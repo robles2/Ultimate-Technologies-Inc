{
 "cells": [
  {
   "cell_type": "markdown",
   "metadata": {},
   "source": [
    "## Part 2 - Experiment and Metrics\n",
    "\n",
    "### Key Measure of Success\n",
    "\n",
    "The number of **new trips** that drivers make in the other city, because this allows to compare the effect of the reimbursement policy and measure its effectiveness.\n",
    "\n",
    "### Design of the experiment (A/B Testing)\n",
    "\n",
    "We would perform A/B testing by comparing how the distribution of drivers are between cities, this is, how many trips they do on each of the cities. If we find out that there is statistical significance, we could conclude that the reimbursement policy has actually derived in drivers taking more trips out of their respective cities.\n",
    "\n",
    "### Methodology / Experiments\n",
    "\n",
    "In order to perform the experiment, we would follow the next pipeline:\n",
    "1. Generate a distribution of trips in and out of their city BEFORE the reimbursement policy, and other AFTER the reimbursement policy.\n",
    "2. Peform A/B Testing, considering the Hypothesis that the average number of trips between two cities is not significantly different.\n",
    "\n",
    "### Test statistic\n",
    "\n",
    "We would need to understand what is going to be the size of the populations, but initially if the sample is higher than 30 individuals, T-test would suit the problem, having 2 populations of drivers that we want to compare, before and after the reimbursement policy application.\n",
    "\n",
    "![Random Unsplash Image](https://cdn.scribbr.com/wp-content/uploads/2020/01/flowchart-for-choosing-a-statistical-test-993x1024.png)\n",
    "\n",
    "### Analysis of the Test and Conclussion\n",
    "\n",
    "After doing the the test, if the difference between the average number of drives to other city is not statistically significant, we would establish that the reimbursement policy has not really affected the behaviour of the drivers. However, we need to be careful while analyzing the assumptions of the parametric tests."
   ]
  }
 ],
 "metadata": {
  "kernelspec": {
   "display_name": "Python 3",
   "language": "python",
   "name": "python3"
  },
  "language_info": {
   "codemirror_mode": {
    "name": "ipython",
    "version": 3
   },
   "file_extension": ".py",
   "mimetype": "text/x-python",
   "name": "python",
   "nbconvert_exporter": "python",
   "pygments_lexer": "ipython3",
   "version": "3.7.6"
  }
 },
 "nbformat": 4,
 "nbformat_minor": 4
}
